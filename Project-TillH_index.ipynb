{
 "cells": [
  {
   "cell_type": "markdown",
   "metadata": {},
   "source": [
    "# Project Topic:Ranking of Academic Papers\n"
   ]
  },
  {
   "cell_type": "markdown",
   "metadata": {},
   "source": [
    "## Loading the DBLP-Citation-network V10 data into dataframes"
   ]
  },
  {
   "cell_type": "code",
   "execution_count": 2,
   "metadata": {},
   "outputs": [],
   "source": [
    "import os\n",
    "import json\n",
    "import numpy as np\n",
    "import pandas as pd\n",
    "from pandas.io.json import json_normalize\n",
    "import pandas as pd\n",
    "from ast import literal_eval\n",
    "import matplotlib.pyplot as plt\n",
    "import seaborn as sns\n",
    "color = sns.color_palette()\n",
    "def load_df(csv_path='./dblp-ref-1_full.csv', nrows=None):\n",
    "    train = pd.read_csv(csv_path, nrows=10000)\n",
    "    train['authors'] = train['authors'].fillna(\"[]\")\n",
    "    train['references'] = train['references'].fillna(\"[]\")\n",
    "    train[['authors', 'references']] = train[['authors', 'references']].applymap(literal_eval)\n",
    "#     train.reset_index(level=0, inplace=True)\n",
    "#     train.head()\n",
    "    return train"
   ]
  },
  {
   "cell_type": "code",
   "execution_count": 3,
   "metadata": {},
   "outputs": [
    {
     "data": {
      "text/html": [
       "<div>\n",
       "<style scoped>\n",
       "    .dataframe tbody tr th:only-of-type {\n",
       "        vertical-align: middle;\n",
       "    }\n",
       "\n",
       "    .dataframe tbody tr th {\n",
       "        vertical-align: top;\n",
       "    }\n",
       "\n",
       "    .dataframe thead th {\n",
       "        text-align: right;\n",
       "    }\n",
       "</style>\n",
       "<table border=\"1\" class=\"dataframe\">\n",
       "  <thead>\n",
       "    <tr style=\"text-align: right;\">\n",
       "      <th></th>\n",
       "      <th>index</th>\n",
       "      <th>abstract</th>\n",
       "      <th>authors</th>\n",
       "      <th>id</th>\n",
       "      <th>n_citation</th>\n",
       "      <th>references</th>\n",
       "      <th>title</th>\n",
       "      <th>venue</th>\n",
       "      <th>year</th>\n",
       "      <th>F1</th>\n",
       "      <th>F2</th>\n",
       "      <th>F3</th>\n",
       "    </tr>\n",
       "  </thead>\n",
       "  <tbody>\n",
       "    <tr>\n",
       "      <th>0</th>\n",
       "      <td>0</td>\n",
       "      <td>Based on biological control strategy in pest m...</td>\n",
       "      <td>[Guoping Pang, Lansun Chen]</td>\n",
       "      <td>4aa69add-3978-480b-a1c0-d99a83d7e324</td>\n",
       "      <td>8</td>\n",
       "      <td>[04754a28-6bf4-4d5d-8e42-2677d8564cdc, 33a877a...</td>\n",
       "      <td>Dynamic analysis of a pest-epidemic model with...</td>\n",
       "      <td>Mathematics and Computers in Simulation</td>\n",
       "      <td>2008</td>\n",
       "      <td>mathematics</td>\n",
       "      <td>mathematical optimization</td>\n",
       "      <td>control theory</td>\n",
       "    </tr>\n",
       "    <tr>\n",
       "      <th>1</th>\n",
       "      <td>1</td>\n",
       "      <td>Abstract#R##N##R##N#Regression testing is an i...</td>\n",
       "      <td>[Anneliese von Mayrhauser, Ning Zhang]</td>\n",
       "      <td>4aa69b49-9bfc-49c3-81a7-7af5c215ca0e</td>\n",
       "      <td>50</td>\n",
       "      <td>[2932090c-8204-4970-bd27-98a66155011c, 9479c8d...</td>\n",
       "      <td>Automated regression testing using DBT and Sleuth</td>\n",
       "      <td>Journal of Software Maintenance and Evolution:...</td>\n",
       "      <td>1999</td>\n",
       "      <td>computer science</td>\n",
       "      <td>reliability engineering</td>\n",
       "      <td>system testing</td>\n",
       "    </tr>\n",
       "    <tr>\n",
       "      <th>2</th>\n",
       "      <td>2</td>\n",
       "      <td>Mobile applications are software packages that...</td>\n",
       "      <td>[Zheng Yan, Peng Zhang, Robert H. Deng]</td>\n",
       "      <td>4aa69de5-c819-482e-a808-2b3f8b829008</td>\n",
       "      <td>53</td>\n",
       "      <td>[012d9aaf-34d0-496a-99c0-f0fd15dd2984, 029be9a...</td>\n",
       "      <td>TruBeRepec: a trust-behavior-based reputation ...</td>\n",
       "      <td>ubiquitous computing</td>\n",
       "      <td>2012</td>\n",
       "      <td>computer science</td>\n",
       "      <td>data mining</td>\n",
       "      <td>computer security</td>\n",
       "    </tr>\n",
       "    <tr>\n",
       "      <th>3</th>\n",
       "      <td>3</td>\n",
       "      <td>We propose a method that allows opportunistic ...</td>\n",
       "      <td>[Jarkko Kaleva, Petri Komulainen, Markku J. Ju...</td>\n",
       "      <td>4aa6a255-c72c-4ccf-b1b8-c048ba39255b</td>\n",
       "      <td>0</td>\n",
       "      <td>[1322cb89-dda2-4625-8c80-6863810d5c3f, 1eddb4e...</td>\n",
       "      <td>Zero-forcing spatial interweave with greedy sc...</td>\n",
       "      <td>wireless personal multimedia communications</td>\n",
       "      <td>2011</td>\n",
       "      <td>computer science</td>\n",
       "      <td>real time computing</td>\n",
       "      <td>scheduling</td>\n",
       "    </tr>\n",
       "    <tr>\n",
       "      <th>4</th>\n",
       "      <td>4</td>\n",
       "      <td>This article studies the power allocation (PA)...</td>\n",
       "      <td>[Yingnan Zhang, Qiao Wang]</td>\n",
       "      <td>4aa6bae5-bbd9-46a1-944a-18ed700b72d5</td>\n",
       "      <td>50</td>\n",
       "      <td>[0b480a7b-b171-4bf6-846c-1c7478a6d279, 0fd4be7...</td>\n",
       "      <td>Optimal power control of parallel orthogonalfr...</td>\n",
       "      <td>Iet Communications</td>\n",
       "      <td>2011</td>\n",
       "      <td>mathematics</td>\n",
       "      <td>real time computing</td>\n",
       "      <td>computer network</td>\n",
       "    </tr>\n",
       "  </tbody>\n",
       "</table>\n",
       "</div>"
      ],
      "text/plain": [
       "   index                                           abstract  \\\n",
       "0      0  Based on biological control strategy in pest m...   \n",
       "1      1  Abstract#R##N##R##N#Regression testing is an i...   \n",
       "2      2  Mobile applications are software packages that...   \n",
       "3      3  We propose a method that allows opportunistic ...   \n",
       "4      4  This article studies the power allocation (PA)...   \n",
       "\n",
       "                                             authors  \\\n",
       "0                        [Guoping Pang, Lansun Chen]   \n",
       "1             [Anneliese von Mayrhauser, Ning Zhang]   \n",
       "2            [Zheng Yan, Peng Zhang, Robert H. Deng]   \n",
       "3  [Jarkko Kaleva, Petri Komulainen, Markku J. Ju...   \n",
       "4                         [Yingnan Zhang, Qiao Wang]   \n",
       "\n",
       "                                     id  n_citation  \\\n",
       "0  4aa69add-3978-480b-a1c0-d99a83d7e324           8   \n",
       "1  4aa69b49-9bfc-49c3-81a7-7af5c215ca0e          50   \n",
       "2  4aa69de5-c819-482e-a808-2b3f8b829008          53   \n",
       "3  4aa6a255-c72c-4ccf-b1b8-c048ba39255b           0   \n",
       "4  4aa6bae5-bbd9-46a1-944a-18ed700b72d5          50   \n",
       "\n",
       "                                          references  \\\n",
       "0  [04754a28-6bf4-4d5d-8e42-2677d8564cdc, 33a877a...   \n",
       "1  [2932090c-8204-4970-bd27-98a66155011c, 9479c8d...   \n",
       "2  [012d9aaf-34d0-496a-99c0-f0fd15dd2984, 029be9a...   \n",
       "3  [1322cb89-dda2-4625-8c80-6863810d5c3f, 1eddb4e...   \n",
       "4  [0b480a7b-b171-4bf6-846c-1c7478a6d279, 0fd4be7...   \n",
       "\n",
       "                                               title  \\\n",
       "0  Dynamic analysis of a pest-epidemic model with...   \n",
       "1  Automated regression testing using DBT and Sleuth   \n",
       "2  TruBeRepec: a trust-behavior-based reputation ...   \n",
       "3  Zero-forcing spatial interweave with greedy sc...   \n",
       "4  Optimal power control of parallel orthogonalfr...   \n",
       "\n",
       "                                               venue  year                F1  \\\n",
       "0            Mathematics and Computers in Simulation  2008       mathematics   \n",
       "1  Journal of Software Maintenance and Evolution:...  1999  computer science   \n",
       "2                               ubiquitous computing  2012  computer science   \n",
       "3        wireless personal multimedia communications  2011  computer science   \n",
       "4                                 Iet Communications  2011       mathematics   \n",
       "\n",
       "                          F2                 F3  \n",
       "0  mathematical optimization     control theory  \n",
       "1    reliability engineering     system testing  \n",
       "2                data mining  computer security  \n",
       "3        real time computing         scheduling  \n",
       "4        real time computing   computer network  "
      ]
     },
     "execution_count": 3,
     "metadata": {},
     "output_type": "execute_result"
    }
   ],
   "source": [
    "train_df = load_df()\n",
    "train_df.head()\n",
    "# len(train_df)\n",
    "# dict_paper_refs = {}"
   ]
  },
  {
   "cell_type": "code",
   "execution_count": 5,
   "metadata": {},
   "outputs": [
    {
     "data": {
      "text/html": [
       "<div>\n",
       "<style scoped>\n",
       "    .dataframe tbody tr th:only-of-type {\n",
       "        vertical-align: middle;\n",
       "    }\n",
       "\n",
       "    .dataframe tbody tr th {\n",
       "        vertical-align: top;\n",
       "    }\n",
       "\n",
       "    .dataframe thead th {\n",
       "        text-align: right;\n",
       "    }\n",
       "</style>\n",
       "<table border=\"1\" class=\"dataframe\">\n",
       "  <thead>\n",
       "    <tr style=\"text-align: right;\">\n",
       "      <th></th>\n",
       "      <th>index</th>\n",
       "      <th>n_citation</th>\n",
       "      <th>year</th>\n",
       "    </tr>\n",
       "  </thead>\n",
       "  <tbody>\n",
       "    <tr>\n",
       "      <th>count</th>\n",
       "      <td>10000.00000</td>\n",
       "      <td>10000.00000</td>\n",
       "      <td>10000.000000</td>\n",
       "    </tr>\n",
       "    <tr>\n",
       "      <th>mean</th>\n",
       "      <td>4999.50000</td>\n",
       "      <td>38.06020</td>\n",
       "      <td>2007.088700</td>\n",
       "    </tr>\n",
       "    <tr>\n",
       "      <th>std</th>\n",
       "      <td>2886.89568</td>\n",
       "      <td>94.68762</td>\n",
       "      <td>8.623043</td>\n",
       "    </tr>\n",
       "    <tr>\n",
       "      <th>min</th>\n",
       "      <td>0.00000</td>\n",
       "      <td>0.00000</td>\n",
       "      <td>1956.000000</td>\n",
       "    </tr>\n",
       "    <tr>\n",
       "      <th>25%</th>\n",
       "      <td>2499.75000</td>\n",
       "      <td>2.00000</td>\n",
       "      <td>2005.000000</td>\n",
       "    </tr>\n",
       "    <tr>\n",
       "      <th>50%</th>\n",
       "      <td>4999.50000</td>\n",
       "      <td>19.00000</td>\n",
       "      <td>2010.000000</td>\n",
       "    </tr>\n",
       "    <tr>\n",
       "      <th>75%</th>\n",
       "      <td>7499.25000</td>\n",
       "      <td>50.00000</td>\n",
       "      <td>2013.000000</td>\n",
       "    </tr>\n",
       "    <tr>\n",
       "      <th>max</th>\n",
       "      <td>9999.00000</td>\n",
       "      <td>2772.00000</td>\n",
       "      <td>2017.000000</td>\n",
       "    </tr>\n",
       "  </tbody>\n",
       "</table>\n",
       "</div>"
      ],
      "text/plain": [
       "             index   n_citation          year\n",
       "count  10000.00000  10000.00000  10000.000000\n",
       "mean    4999.50000     38.06020   2007.088700\n",
       "std     2886.89568     94.68762      8.623043\n",
       "min        0.00000      0.00000   1956.000000\n",
       "25%     2499.75000      2.00000   2005.000000\n",
       "50%     4999.50000     19.00000   2010.000000\n",
       "75%     7499.25000     50.00000   2013.000000\n",
       "max     9999.00000   2772.00000   2017.000000"
      ]
     },
     "execution_count": 5,
     "metadata": {},
     "output_type": "execute_result"
    }
   ],
   "source": [
    "train_df.describe()\n",
    "# len(train_df)\n",
    "# train_df.to_csv('dblp-ref-1_1M.csv',index = False, header=False)\n",
    "# venues= train_df.venue.unique()\n",
    "# venues[:100]"
   ]
  },
  {
   "cell_type": "markdown",
   "metadata": {},
   "source": [
    "# Calculating h-index for authors\n",
    "\n",
    "### Method to calculate h-index:\n",
    "1. We construct a Paper citation graph which has paper ids as nodes and citations as edges.\n",
    "2. A map of authors and list of published papers is created.\n",
    "3. Another map of authors and citation count of the published papers is created.\n",
    "4. h-index of each author is obtained by passing the citation count array of each author to get_h_index() function."
   ]
  },
  {
   "cell_type": "code",
   "execution_count": 5,
   "metadata": {},
   "outputs": [],
   "source": [
    "def get_h_index(citations):\n",
    "#     Creating a dict of paper id and its references\n",
    "    citations.sort()\n",
    "    n = len(citations)\n",
    "    for i in range(n):\n",
    "        if citations[i] >= (n-i):\n",
    "            return n-i\n",
    "    return 0\n",
    "        \n",
    "    \n",
    "    \n",
    "    \n",
    "#     create author-papers map\n",
    "#     get citation count of a paper from Graph\n",
    "#     create citation array for each author\n",
    "#     calculate h-index for each author, put it in a map\n",
    "def get_author_paper_map(df, G):\n",
    "    author_paper_map = dict()\n",
    "    author_papercitations_map = dict()\n",
    "    df['authors'] = df['authors'].fillna(\"NA\")\n",
    "    \n",
    "    authors_all = df.authors.tolist()\n",
    "    for i in range(0, len(authors_all)):\n",
    "        if authors_all[i] is not 'NA':\n",
    "            authors = authors_all[i]\n",
    "            for j in range(0, len(authors)):\n",
    "                author = authors[j]\n",
    "    #             print (author)\n",
    "                if author not in author_paper_map:\n",
    "                    author_paper_map[author] =  set()\n",
    "                    author_paper_map[author].add(df.id[i])\n",
    "                    author_papercitations_map[author] =  []\n",
    "                    author_papercitations_map[author].append(len(list(G.predecessors(df.id[i]))))\n",
    "                else:\n",
    "                    author_paper_map[author].add(df.id[i])\n",
    "                    author_papercitations_map[author].append(len(list(G.predecessors(df.id[i]))))\n",
    "                \n",
    "#     print (author_paper_map)\n",
    "    return author_paper_map ,author_papercitations_map\n"
   ]
  },
  {
   "cell_type": "code",
   "execution_count": 6,
   "metadata": {},
   "outputs": [
    {
     "name": "stdout",
     "output_type": "stream",
     "text": [
      "Edges Count:830937\n"
     ]
    }
   ],
   "source": [
    "import networkx as nx\n",
    "def get_paper_graph(df):\n",
    "    G = nx.DiGraph()\n",
    "#     G.add_node(1)\n",
    "    G.add_nodes_from(df.id)\n",
    "    for i in range (0, len((df.id))):#len((df.id))\n",
    "#         print (len(df.references[0]))\n",
    "        paper_id = df.id[i]\n",
    "        if(df.references[i] is \"NA\"):\n",
    "            continue  \n",
    "        for j in range(0, len(df.references[i])):\n",
    "            refs= df.references[i]\n",
    "            G.add_edge(paper_id, refs[j])\n",
    "    return G\n",
    "    \n",
    "\n",
    "train_df['references'] = train_df['references'].fillna(\"NA\")\n",
    "G=get_paper_graph(train_df)\n",
    "print(\"Edges Count:\"+str(len(list(G.edges))))\n",
    "\n"
   ]
  },
  {
   "cell_type": "code",
   "execution_count": 7,
   "metadata": {},
   "outputs": [
    {
     "name": "stdout",
     "output_type": "stream",
     "text": [
      "Edges Count:830937\n",
      "199969\n"
     ]
    }
   ],
   "source": [
    "# train_df=train_df[0:1000]\n",
    "print(\"Edges Count:\"+str(len(list(G.edges))))\n",
    "author_paper_map, author_papercitations_map = get_author_paper_map(train_df, G)\n",
    "print(len(author_papercitations_map))"
   ]
  },
  {
   "cell_type": "code",
   "execution_count": 8,
   "metadata": {},
   "outputs": [
    {
     "name": "stdout",
     "output_type": "stream",
     "text": [
      "Authors with h-index>20\n",
      "199969\n"
     ]
    }
   ],
   "source": [
    "def get_author_h_index(author_papercitations_map):\n",
    "    author_h_index_map = {}\n",
    "    for author, citations in author_papercitations_map.items():\n",
    "        h_index= get_h_index(citations)\n",
    "        author_h_index_map[author] =  h_index\n",
    "    return author_h_index_map\n",
    "\n",
    "author_h_index_map = get_author_h_index(author_papercitations_map)\n",
    "print(\"Authors with h-index>20\")\n",
    "for author, h_index in author_h_index_map.items():\n",
    "       if h_index>20:\n",
    "            print (author + \":\"+ str(h_index))\n",
    "print(len(author_papercitations_map))"
   ]
  },
  {
   "cell_type": "code",
   "execution_count": 9,
   "metadata": {},
   "outputs": [
    {
     "name": "stdout",
     "output_type": "stream",
     "text": [
      "21217\n",
      "11318\n",
      "7987\n",
      "9522\n"
     ]
    }
   ],
   "source": [
    "def get_per_field_papers(df=train_df, field='artificial intelligence'):\n",
    "     \n",
    "    rows_relevant = df.loc[(df['F1'] == field) | (df['F2'] == field) | (df['F3'] == field)]\n",
    "#     print (len(rows_relevant))\n",
    "    rows_relevant = rows_relevant[['id','title']]\n",
    "    return rows_relevant\n",
    "get_per_field_papers(df=train_df, field='artificial intelligence')\n",
    "\n",
    "print(len(get_per_field_papers(df=train_df, field='artificial intelligence')))\n",
    "print(len(get_per_field_papers(df=train_df, field='mathematical optimization')))\n",
    "print(len(get_per_field_papers(df=train_df, field='distributed computing')))\n",
    "print(len(get_per_field_papers(df=train_df, field='real time computing')))"
   ]
  },
  {
   "cell_type": "code",
   "execution_count": 10,
   "metadata": {},
   "outputs": [
    {
     "name": "stderr",
     "output_type": "stream",
     "text": [
      "C:\\Users\\Vaibhav\\Anaconda3_DSF\\lib\\site-packages\\ipykernel_launcher.py:5: SettingWithCopyWarning: \n",
      "A value is trying to be set on a copy of a slice from a DataFrame.\n",
      "Try using .loc[row_indexer,col_indexer] = value instead\n",
      "\n",
      "See the caveats in the documentation: http://pandas.pydata.org/pandas-docs/stable/indexing.html#indexing-view-versus-copy\n",
      "  \"\"\"\n"
     ]
    },
    {
     "data": {
      "text/plain": [
       "['Micha Sharir']"
      ]
     },
     "execution_count": 10,
     "metadata": {},
     "output_type": "execute_result"
    }
   ],
   "source": [
    "def get_authors_by_field(df=train_df, field='artificial intelligence', threshold=15):\n",
    "    rows_relevant = df.loc[(df['F1'] == field) | (df['F2'] == field) | (df['F3'] == field)]\n",
    "    authors = []\n",
    "#     print(rows_relevant.authors)\n",
    "    rows_relevant['authors'] = rows_relevant['authors'].fillna(\"NA\")\n",
    "    auth = rows_relevant.authors.reset_index(drop=True)\n",
    "    \n",
    "#     authors.extend(l)\n",
    "    for l in auth:#len(rows_relevant):\n",
    "#         print(l)\n",
    "        if l is not 'NA':\n",
    "#         auth_list = list(rows_relevant.authors[i])\n",
    "            authors.extend(l)\n",
    "    authors_df = pd.DataFrame({'authors':authors})\n",
    "    authors_df = authors_df.groupby(\"authors\").filter(lambda x: len(x) >= threshold)\n",
    "#     authors_set= set(authors)\n",
    "#     print(len(authors_df))\n",
    "#     qualifying_authors = []\n",
    "#     for a in authors_set:\n",
    "#         if (authors.count('a')>15):\n",
    "#             qualifying_authors.append(a)\n",
    "            \n",
    "#     print('Total authors for field ' + field + ': '+str(len(qualifying_authors)))\n",
    "    qualifying_authors =  authors_df['authors'].values.tolist()\n",
    "    qualifying_authors= set(qualifying_authors)\n",
    "    return list(qualifying_authors)\n",
    "get_authors_by_field(train_df,'combinatorics') "
   ]
  },
  {
   "cell_type": "code",
   "execution_count": 11,
   "metadata": {},
   "outputs": [
    {
     "name": "stdout",
     "output_type": "stream",
     "text": [
      "received field:artificial intelligence\n"
     ]
    },
    {
     "name": "stderr",
     "output_type": "stream",
     "text": [
      "C:\\Users\\Vaibhav\\Anaconda3_DSF\\lib\\site-packages\\ipykernel_launcher.py:5: SettingWithCopyWarning: \n",
      "A value is trying to be set on a copy of a slice from a DataFrame.\n",
      "Try using .loc[row_indexer,col_indexer] = value instead\n",
      "\n",
      "See the caveats in the documentation: http://pandas.pydata.org/pandas-docs/stable/indexing.html#indexing-view-versus-copy\n",
      "  \"\"\"\n"
     ]
    },
    {
     "name": "stdout",
     "output_type": "stream",
     "text": [
      "            authors  h_index\n",
      "0      Anil K. Jain        4\n",
      "1   Ronald R. Yager        3\n",
      "2        Xuelong Li        3\n",
      "3    Witold Pedrycz        3\n",
      "4       Dacheng Tao        3\n",
      "5          Wei Wang        2\n",
      "6       David Zhang        2\n",
      "7           Qi Tian        2\n",
      "8         Lei Zhang        2\n",
      "9       Jingyu Yang        2\n",
      "10     Licheng Jiao        2\n",
      "11  Chin-Chen Chang        2\n",
      "12    Josef Kittler        2\n",
      "13         Yang Liu        2\n",
      "14     Qionghai Dai        2\n",
      "15    Shuicheng Yan        2\n",
      "16       Hong Zhang        2\n",
      "17         Jun Wang        2\n",
      "18           Yan Li        1\n",
      "19         Lei Wang        1\n"
     ]
    },
    {
     "data": {
      "text/html": [
       "<div>\n",
       "<style scoped>\n",
       "    .dataframe tbody tr th:only-of-type {\n",
       "        vertical-align: middle;\n",
       "    }\n",
       "\n",
       "    .dataframe tbody tr th {\n",
       "        vertical-align: top;\n",
       "    }\n",
       "\n",
       "    .dataframe thead th {\n",
       "        text-align: right;\n",
       "    }\n",
       "</style>\n",
       "<table border=\"1\" class=\"dataframe\">\n",
       "  <thead>\n",
       "    <tr style=\"text-align: right;\">\n",
       "      <th></th>\n",
       "      <th>authors</th>\n",
       "      <th>h_index</th>\n",
       "    </tr>\n",
       "  </thead>\n",
       "  <tbody>\n",
       "    <tr>\n",
       "      <th>0</th>\n",
       "      <td>Anil K. Jain</td>\n",
       "      <td>4</td>\n",
       "    </tr>\n",
       "    <tr>\n",
       "      <th>1</th>\n",
       "      <td>Ronald R. Yager</td>\n",
       "      <td>3</td>\n",
       "    </tr>\n",
       "    <tr>\n",
       "      <th>2</th>\n",
       "      <td>Xuelong Li</td>\n",
       "      <td>3</td>\n",
       "    </tr>\n",
       "    <tr>\n",
       "      <th>3</th>\n",
       "      <td>Witold Pedrycz</td>\n",
       "      <td>3</td>\n",
       "    </tr>\n",
       "    <tr>\n",
       "      <th>4</th>\n",
       "      <td>Dacheng Tao</td>\n",
       "      <td>3</td>\n",
       "    </tr>\n",
       "  </tbody>\n",
       "</table>\n",
       "</div>"
      ],
      "text/plain": [
       "           authors  h_index\n",
       "0     Anil K. Jain        4\n",
       "1  Ronald R. Yager        3\n",
       "2       Xuelong Li        3\n",
       "3   Witold Pedrycz        3\n",
       "4      Dacheng Tao        3"
      ]
     },
     "execution_count": 11,
     "metadata": {},
     "output_type": "execute_result"
    }
   ],
   "source": [
    "def get_h_index_per_field(field = 'artificial intelligence', threshold=15 ):\n",
    "    print(\"received field:\"+field)\n",
    "    authors = get_authors_by_field(train_df, field, threshold)\n",
    "    field_h_index_map = {}\n",
    "    for i in range(0, len(authors)):\n",
    "        if authors[i] in author_h_index_map:\n",
    "            field_h_index_map[authors[i]] = author_h_index_map[authors[i]]\n",
    "    \n",
    "#     print(len(field_h_index_map))\n",
    "#     for author, h_index in field_h_index_map.items():\n",
    "#         if h_index>1:\n",
    "#             print (author + \":\"+ str(h_index))\n",
    "    count =0\n",
    "#     print ('TOP 100 AUTHORS for field:'+ field+' by h-Index are:')\n",
    "    authors_list = []\n",
    "    h_list = []\n",
    "    for w in sorted(field_h_index_map, key=field_h_index_map.get, reverse=True):\n",
    "#         print (w, field_h_index_map[w])\n",
    "        authors_list.append(w)\n",
    "        h_list.append(field_h_index_map[w])\n",
    "        count +=1\n",
    "        if(count==100):\n",
    "            break\n",
    "    df_result = pd.DataFrame({'authors':authors_list})\n",
    "    df_h_index = pd.DataFrame({'h_index':h_list})\n",
    "    df_result['h_index'] =  df_h_index\n",
    "    print (df_result.head(50))\n",
    "    return df_result\n",
    "    \n",
    "h_index_AI = get_h_index_per_field(field = 'artificial intelligence')\n",
    "h_index_AI.head()"
   ]
  },
  {
   "cell_type": "code",
   "execution_count": null,
   "metadata": {},
   "outputs": [],
   "source": [
    "# h_index_MO = get_h_index_per_field('distributed computing')"
   ]
  },
  {
   "cell_type": "code",
   "execution_count": null,
   "metadata": {},
   "outputs": [],
   "source": [
    "# h_index_AS = get_h_index_per_field(field = 'computer network')"
   ]
  },
  {
   "cell_type": "code",
   "execution_count": null,
   "metadata": {},
   "outputs": [],
   "source": [
    "# h_index_AS = get_h_index_per_field(field = 'electronic engineering')"
   ]
  },
  {
   "cell_type": "code",
   "execution_count": null,
   "metadata": {},
   "outputs": [],
   "source": [
    "# h_index_AS = get_h_index_per_field(field = 'human computer interaction', threshold =10)"
   ]
  },
  {
   "cell_type": "code",
   "execution_count": 12,
   "metadata": {},
   "outputs": [
    {
     "name": "stdout",
     "output_type": "stream",
     "text": [
      "received field:artificial intelligence\n"
     ]
    },
    {
     "name": "stderr",
     "output_type": "stream",
     "text": [
      "C:\\Users\\Vaibhav\\Anaconda3_DSF\\lib\\site-packages\\ipykernel_launcher.py:5: SettingWithCopyWarning: \n",
      "A value is trying to be set on a copy of a slice from a DataFrame.\n",
      "Try using .loc[row_indexer,col_indexer] = value instead\n",
      "\n",
      "See the caveats in the documentation: http://pandas.pydata.org/pandas-docs/stable/indexing.html#indexing-view-versus-copy\n",
      "  \"\"\"\n"
     ]
    },
    {
     "name": "stdout",
     "output_type": "stream",
     "text": [
      "            authors  h_index\n",
      "0      Anil K. Jain        4\n",
      "1   Ronald R. Yager        3\n",
      "2        Xuelong Li        3\n",
      "3    Witold Pedrycz        3\n",
      "4       Dacheng Tao        3\n",
      "5          Wei Wang        2\n",
      "6       David Zhang        2\n",
      "7           Qi Tian        2\n",
      "8         Lei Zhang        2\n",
      "9       Jingyu Yang        2\n",
      "10     Licheng Jiao        2\n",
      "11  Chin-Chen Chang        2\n",
      "12    Josef Kittler        2\n",
      "13         Yang Liu        2\n",
      "14     Qionghai Dai        2\n",
      "15    Shuicheng Yan        2\n",
      "16       Hong Zhang        2\n",
      "17         Jun Wang        2\n",
      "18           Yan Li        1\n",
      "19         Lei Wang        1\n"
     ]
    },
    {
     "data": {
      "text/plain": [
       "(array([ 0,  1,  2,  3,  4,  5,  6,  7,  8,  9, 10, 11, 12, 13, 14, 15, 16,\n",
       "        17, 18, 19]), <a list of 20 Text xticklabel objects>)"
      ]
     },
     "execution_count": 12,
     "metadata": {},
     "output_type": "execute_result"
    },
    {
     "data": {
      "image/png": "[encoded data removed]",
      "text/plain": [
       "<Figure size 1080x576 with 1 Axes>"
      ]
     },
     "metadata": {},
     "output_type": "display_data"
    }
   ],
   "source": [
    "h_index_AI = get_h_index_per_field(field = 'artificial intelligence', threshold =15)\n",
    "\n",
    "sns.set(rc={'figure.figsize':(15,8)})\n",
    "sns.barplot(x='authors',y='h_index', data=h_index_AI[0:50]).set_title('Top authors in Artificial Intelligence by H-Index',fontsize=15)\n",
    " \n",
    "# Rotate x-labels\n",
    "plt.xticks(rotation=90)"
   ]
  },
  {
   "cell_type": "code",
   "execution_count": null,
   "metadata": {},
   "outputs": [],
   "source": [
    "h_index_stat = get_h_index_per_field(field = 'statistics', threshold =5)\n",
    "\n",
    "sns.set(rc={'figure.figsize':(15,8)})\n",
    "sns.barplot(x='authors',y='h_index', data=h_index_stat[0:50]).set_title('Top authors in Statistics by H-Index',fontsize=15)\n",
    " \n",
    "# Rotate x-labels\n",
    "plt.xticks(rotation=90)"
   ]
  },
  {
   "cell_type": "code",
   "execution_count": null,
   "metadata": {},
   "outputs": [],
   "source": [
    "h_index_BIO = get_h_index_per_field(field = 'biology', threshold =5)\n",
    "\n",
    "sns.set(rc={'figure.figsize':(15,8)})\n",
    "sns.barplot(x='authors',y='h_index', data=h_index_stat[0:50]).set_title('Top authors in Biology by H-Index',fontsize=15)\n",
    " \n",
    "# Rotate x-labels\n",
    "plt.xticks(rotation=90)"
   ]
  },
  {
   "cell_type": "code",
   "execution_count": null,
   "metadata": {},
   "outputs": [],
   "source": [
    "h_index_stat = get_h_index_per_field(field = 'discrete mathematics', threshold =15)\n",
    "\n",
    "sns.set(rc={'figure.figsize':(15,8)})\n",
    "sns.barplot(x='authors',y='h_index', data=h_index_stat[0:50]).set_title('Top authors in Discrete Mathematics by H-Index',fontsize=15)\n",
    " \n",
    "# Rotate x-labels\n",
    "plt.xticks(rotation=90)"
   ]
  },
  {
   "cell_type": "markdown",
   "metadata": {},
   "source": [
    "## PAGE RANK FOR AUTHORS"
   ]
  },
  {
   "cell_type": "code",
   "execution_count": 4,
   "metadata": {},
   "outputs": [
    {
     "name": "stdout",
     "output_type": "stream",
     "text": [
      "0\n",
      "1000\n",
      "2000\n",
      "3000\n",
      "4000\n",
      "5000\n",
      "6000\n",
      "7000\n",
      "8000\n",
      "9000\n",
      "27434\n"
     ]
    }
   ],
   "source": [
    "import networkx as nx\n",
    "def get_pr_authors(train=train_df):\n",
    "#     train = train_data[:100]\n",
    "    #simple page rank for authors\n",
    "    AG = nx.DiGraph()\n",
    "    AG.clear()\n",
    "\n",
    "    for index, row in train.iterrows():\n",
    "        if(index%1000==0):\n",
    "            print (index)\n",
    "        #for each author, add his/her name as a node to the graph\n",
    "        AG.add_nodes_from(row['authors'])\n",
    "        rows_ref =[]\n",
    "        for ref in row['references']:\n",
    "#                 print(aut)\n",
    "                #for each reference search the dataframe for the corresponding row\n",
    "                rows_ref.append(train.loc[train['id'] == ref])\n",
    "        for aut in row['authors']:\n",
    "            for cur_row in rows_ref:\n",
    "                if(len(cur_row) == 1):\n",
    "#                     print(cur_row)\n",
    "#                     print(\"found match\")\n",
    "                    for ref_auth in cur_row['authors']:\n",
    "                        for ra in ref_auth:\n",
    "                            AG.add_edge(aut, ra)\n",
    "    return AG\n",
    "\n",
    "AG = get_pr_authors()\n",
    "\n",
    "print(AG.number_of_nodes()) "
   ]
  },
  {
   "cell_type": "code",
   "execution_count": null,
   "metadata": {},
   "outputs": [],
   "source": []
  }
 ],
 "metadata": {
  "kernelspec": {
   "display_name": "Python 3",
   "language": "python",
   "name": "python3"
  },
  "language_info": {
   "codemirror_mode": {
    "name": "ipython",
    "version": 3
   },
   "file_extension": ".py",
   "mimetype": "text/x-python",
   "name": "python",
   "nbconvert_exporter": "python",
   "pygments_lexer": "ipython3",
   "version": "3.6.5"
  }
 },
 "nbformat": 4,
 "nbformat_minor": 2
}
